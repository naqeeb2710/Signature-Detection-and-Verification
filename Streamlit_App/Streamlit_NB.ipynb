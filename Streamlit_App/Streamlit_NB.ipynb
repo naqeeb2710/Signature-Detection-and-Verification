{
 "cells": [
  {
   "cell_type": "code",
   "execution_count": 1,
   "metadata": {
    "executionInfo": {
     "elapsed": 6438,
     "status": "ok",
     "timestamp": 1621816735098,
     "user": {
      "displayName": "Amal Joseph",
      "photoUrl": "https://lh3.googleusercontent.com/a-/AOh14Gg4P6Rm4lcTSSEFGBRi7_jhunano_svtS4Vabi3rWU=s64",
      "userId": "02989210271660975792"
     },
     "user_tz": -330
    },
    "id": "z0MXeeEJ58b2"
   },
   "outputs": [
    {
     "name": "stdout",
     "output_type": "stream",
     "text": [
      "\u001b[31mERROR: pip's dependency resolver does not currently take into account all the packages that are installed. This behaviour is the source of the following dependency conflicts.\n",
      "tensorflow-gpu 2.1.3 requires tensorboard<2.2.0,>=2.1.0, but you have tensorboard 2.5.0 which is incompatible.\u001b[0m\n"
     ]
    }
   ],
   "source": [
    "%%capture\n",
    "import os, sys, random\n",
    "from glob import glob\n",
    "import matplotlib.pyplot as plt\n",
    "%matplotlib inline\n",
    "!pip install -qr 'requirements.txt'"
   ]
  },
  {
   "cell_type": "code",
   "execution_count": 6,
   "metadata": {
    "colab": {
     "base_uri": "https://localhost:8080/"
    },
    "executionInfo": {
     "elapsed": 519,
     "status": "ok",
     "timestamp": 1621816749518,
     "user": {
      "displayName": "Amal Joseph",
      "photoUrl": "https://lh3.googleusercontent.com/a-/AOh14Gg4P6Rm4lcTSSEFGBRi7_jhunano_svtS4Vabi3rWU=s64",
      "userId": "02989210271660975792"
     },
     "user_tz": -330
    },
    "id": "iTguUJ96VQt4",
    "outputId": "dc70a2c4-f649-40e0-bbcc-02e5b3b4a3fe"
   },
   "outputs": [
    {
     "name": "stdout",
     "output_type": "stream",
     "text": [
      "Authtoken saved to configuration file: /home/ec2-user/.ngrok2/ngrok.yml\n",
      "Execute the next cell and the go to the following URL: https://b49e9ee730a1.ngrok.io\n"
     ]
    }
   ],
   "source": [
    "# !./ngrok authtoken add_your_ngrok_token_for_persistent_connection\n",
    "!export STREAMLIT_SERVER_PORT=80\n",
    "\n",
    "get_ipython().system_raw('./ngrok http 8501 &')\n",
    "!curl -s http://localhost:4040/api/tunnels | python3 -c \\\n",
    "    'import sys, json; print(\"Execute the next cell and the go to the following URL: \" +json.load(sys.stdin)[\"tunnels\"][0][\"public_url\"])'"
   ]
  },
  {
   "cell_type": "code",
   "execution_count": 7,
   "metadata": {
    "colab": {
     "base_uri": "https://localhost:8080/"
    },
    "id": "zBIQi2jNPiCA",
    "outputId": "0c493e66-adf0-4729-b241-fbca60d76822"
   },
   "outputs": [
    {
     "name": "stdout",
     "output_type": "stream",
     "text": [
      "\u001b[0m\n",
      "\u001b[34m\u001b[1m  You can now view your Streamlit app in your browser.\u001b[0m\n",
      "\u001b[0m\n",
      "\u001b[34m  Network URL: \u001b[0m\u001b[1mhttp://172.16.49.0:8501\u001b[0m\n",
      "\u001b[34m  External URL: \u001b[0m\u001b[1mhttp://52.15.212.3:8501\u001b[0m\n",
      "\u001b[0m\n",
      "^C\n",
      "\u001b[34m  Stopping...\u001b[0m\n"
     ]
    }
   ],
   "source": [
    "!streamlit run ui.py"
   ]
  }
 ],
 "metadata": {
  "colab": {
   "authorship_tag": "ABX9TyOsnWG4Zuxh0QKY/Bp5FK9B",
   "collapsed_sections": [],
   "mount_file_id": "1SWM8TjyxEFlvxU98QlixJbNupiCc_vrI",
   "name": "Streamlit_NB.ipynb",
   "provenance": []
  },
  "kernelspec": {
   "display_name": "Python 3",
   "language": "python",
   "name": "python3"
  },
  "language_info": {
   "codemirror_mode": {
    "name": "ipython",
    "version": 3
   },
   "file_extension": ".py",
   "mimetype": "text/x-python",
   "name": "python",
   "nbconvert_exporter": "python",
   "pygments_lexer": "ipython3",
   "version": "3.8.3"
  }
 },
 "nbformat": 4,
 "nbformat_minor": 4
}